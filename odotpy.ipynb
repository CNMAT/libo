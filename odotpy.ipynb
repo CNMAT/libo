{
 "metadata": {
  "name": "",
  "signature": "sha256:57d0e3677115442e6781b040611c37ad7f1f95e88a837bdd937ac87ac1dd6720"
 },
 "nbformat": 3,
 "nbformat_minor": 0,
 "worksheets": [
  {
   "cells": [
    {
     "cell_type": "markdown",
     "metadata": {},
     "source": [
      "# odot.py\n",
      "## An Interactive Showcase & Notes on the API\n",
      "\n",
      "For further information about this project, please see the [Dynamic Message-Oriented Middleware with Open Sound Control and Odot]() paper by MacCallum, Freed, Gottfried, Rostovtsev, et al."
     ]
    },
    {
     "cell_type": "markdown",
     "metadata": {},
     "source": [
      "### `odot.py` At a Glance"
     ]
    },
    {
     "cell_type": "code",
     "collapsed": false,
     "input": [
      "import odot as o\n",
      "\n",
      "b = o.bundle('/foo : 1, /bar : [2, 3, 4]')\n",
      "\n",
      "print(b)"
     ],
     "language": "python",
     "metadata": {},
     "outputs": [
      {
       "output_type": "stream",
       "stream": "stdout",
       "text": [
        "/foo : 1,\n",
        "/bar : [2, 3, 4]\n"
       ]
      }
     ],
     "prompt_number": 50
    },
    {
     "cell_type": "markdown",
     "metadata": {},
     "source": [
      "The current support of `odot` in Python consists of the following classes:\n",
      "\n",
      "* `timetag`\n",
      "* `message`\n",
      "* `bundle`\n",
      "* `expr` (note: currently not implemented)\n",
      "\n",
      "These classes provide the Python programmer with the necessary tools to work with odot. The underlying implementation is CNMAT's `libo` - a C library for odot. `odot.py` conceals the _C-ness_ of the `libo` implementation beneath a class-oriented Python interface."
     ]
    },
    {
     "cell_type": "markdown",
     "metadata": {},
     "source": [
      "### `o.timetag`\n",
      "\n",
      "The `o.timetag` class provides support for odot timetags in Python:"
     ]
    },
    {
     "cell_type": "code",
     "collapsed": false,
     "input": [
      "### Constructor:\n",
      "tt1 = o.timetag()  ## returns the current time\n",
      "\n",
      "### Alternatively,\n",
      "tt2 = o.now()      ## a convenience function, returns o.timetag()"
     ],
     "language": "python",
     "metadata": {},
     "outputs": [],
     "prompt_number": 51
    },
    {
     "cell_type": "markdown",
     "metadata": {},
     "source": [
      "#### Timetag Comparison:"
     ]
    },
    {
     "cell_type": "code",
     "collapsed": false,
     "input": [
      "tt1 < tt2 ## is tt1 earlier than tt2?"
     ],
     "language": "python",
     "metadata": {},
     "outputs": [
      {
       "metadata": {},
       "output_type": "pyout",
       "prompt_number": 52,
       "text": [
        "True"
       ]
      }
     ],
     "prompt_number": 52
    },
    {
     "cell_type": "code",
     "collapsed": false,
     "input": [
      "tt1 > tt2 ## is tt2 later than tt2?"
     ],
     "language": "python",
     "metadata": {},
     "outputs": [
      {
       "metadata": {},
       "output_type": "pyout",
       "prompt_number": 53,
       "text": [
        "False"
       ]
      }
     ],
     "prompt_number": 53
    },
    {
     "cell_type": "code",
     "collapsed": false,
     "input": [
      "tt1 == tt2 ## are tt1 and tt2 the same?"
     ],
     "language": "python",
     "metadata": {},
     "outputs": [
      {
       "metadata": {},
       "output_type": "pyout",
       "prompt_number": 54,
       "text": [
        "False"
       ]
      }
     ],
     "prompt_number": 54
    },
    {
     "cell_type": "markdown",
     "metadata": {},
     "source": [
      "Note that the equality operator `==` compares _data_. Different timetag objects that have the same time will evaluate to being equal:"
     ]
    },
    {
     "cell_type": "code",
     "collapsed": false,
     "input": [
      "tt3 = tt2.copy()\n",
      "print(tt3 is tt2, tt3 == tt2)"
     ],
     "language": "python",
     "metadata": {},
     "outputs": [
      {
       "output_type": "stream",
       "stream": "stdout",
       "text": [
        "(False, True)\n"
       ]
      }
     ],
     "prompt_number": 26
    },
    {
     "cell_type": "code",
     "collapsed": false,
     "input": [
      "tt4 = tt3\n",
      "print(tt4 is tt3, tt4 == tt3)"
     ],
     "language": "python",
     "metadata": {},
     "outputs": [
      {
       "output_type": "stream",
       "stream": "stdout",
       "text": [
        "(True, True)\n"
       ]
      }
     ],
     "prompt_number": 28
    },
    {
     "cell_type": "markdown",
     "metadata": {},
     "source": [
      "#### Timetag Arithmetic:"
     ]
    },
    {
     "cell_type": "code",
     "collapsed": false,
     "input": [
      "tt1 = o.now()     ### get current time\n",
      "tt2 = o.now()     ### get current time -- note that this will be later than the previous call!\n",
      "tt1 < tt2"
     ],
     "language": "python",
     "metadata": {},
     "outputs": [
      {
       "metadata": {},
       "output_type": "pyout",
       "prompt_number": 19,
       "text": [
        "True"
       ]
      }
     ],
     "prompt_number": 19
    },
    {
     "cell_type": "code",
     "collapsed": false,
     "input": [
      "tt1 += 5  ## add 5 seconds to the current timetag\n",
      "tt1 < tt2"
     ],
     "language": "python",
     "metadata": {},
     "outputs": [
      {
       "metadata": {},
       "output_type": "pyout",
       "prompt_number": 21,
       "text": [
        "False"
       ]
      }
     ],
     "prompt_number": 21
    },
    {
     "cell_type": "code",
     "collapsed": false,
     "input": [
      "tt1 = o.now()\n",
      "tt2 = o.now()\n",
      "\n",
      "tt3 = tt1 + (tt2 - tt1)\n",
      "tt3 == tt2"
     ],
     "language": "python",
     "metadata": {},
     "outputs": [
      {
       "metadata": {},
       "output_type": "pyout",
       "prompt_number": 32,
       "text": [
        "True"
       ]
      }
     ],
     "prompt_number": 32
    },
    {
     "cell_type": "code",
     "collapsed": false,
     "input": [
      "tt2 - tt1 "
     ],
     "language": "python",
     "metadata": {},
     "outputs": [
      {
       "metadata": {},
       "output_type": "pyout",
       "prompt_number": 34,
       "text": [
        "7.10005406456e-05"
       ]
      }
     ],
     "prompt_number": 34
    },
    {
     "cell_type": "markdown",
     "metadata": {},
     "source": [
      "### `o.message`\n",
      "\n",
      "The `o.message` class provides tools for binding data to an address. The resulting data structure is immutable. The constructor is:\n",
      "```\n",
      "var = o.message( < address >, < data > )\n",
      "```"
     ]
    },
    {
     "cell_type": "code",
     "collapsed": false,
     "input": [
      "m1 = o.message('/foo', 1)                          # bind a single value\n",
      "m2 = o.message('/bar', [1, 2, 3])                  # bind a list\n",
      "m3 = o.message('/boo', [1, 2.0, 'three'])          # bind a list with mixed types\n",
      "m4 = o.message('/time', o.now())                   # bind a timetag\n",
      "m5 = o.message('/subbundle', o.bundle('/foo : 1')) # bind a subbundle\n",
      "print(m1)\n",
      "print(m2)\n",
      "print(m3)\n",
      "print(m4)\n",
      "print(m5)"
     ],
     "language": "python",
     "metadata": {},
     "outputs": [
      {
       "output_type": "stream",
       "stream": "stdout",
       "text": [
        "/foo : 1\n",
        "/bar : [1, 2, 3]\n",
        "/boo : [1, 2., \"three\"]\n",
        "/time : 2015-03-19T02:35:43.225178Z\n",
        "/subbundle : {\n",
        "\t/foo : 1\n",
        "}\n"
       ]
      }
     ],
     "prompt_number": 35
    },
    {
     "cell_type": "markdown",
     "metadata": {},
     "source": [
      "Messages are _iterable_ -- we can use the following loop construction to iterate all members of the message:"
     ]
    },
    {
     "cell_type": "code",
     "collapsed": false,
     "input": [
      "for val in m2:\n",
      "    print(val)"
     ],
     "language": "python",
     "metadata": {},
     "outputs": [
      {
       "output_type": "stream",
       "stream": "stdout",
       "text": [
        "1\n",
        "2\n",
        "3\n"
       ]
      }
     ],
     "prompt_number": 39
    },
    {
     "cell_type": "markdown",
     "metadata": {},
     "source": [
      "Messages also act like arrays:"
     ]
    },
    {
     "cell_type": "code",
     "collapsed": false,
     "input": [
      "### m2[1]\n",
      "### TODO: fixme"
     ],
     "language": "python",
     "metadata": {},
     "outputs": [],
     "prompt_number": 45
    },
    {
     "cell_type": "markdown",
     "metadata": {},
     "source": [
      "You can retrieve the _address_ or _data_ from an odot message using the appropriate _getter_:"
     ]
    },
    {
     "cell_type": "code",
     "collapsed": false,
     "input": [
      "print(m3.getAddress())  ## \"/boo\"\n",
      "print(m2.getData())     ## [1, 2, 3]"
     ],
     "language": "python",
     "metadata": {},
     "outputs": [
      {
       "output_type": "stream",
       "stream": "stdout",
       "text": [
        "/boo\n",
        "[1, 2, 3]\n"
       ]
      }
     ],
     "prompt_number": 48
    },
    {
     "cell_type": "markdown",
     "metadata": {},
     "source": [
      "Under the hood, the `o.message` is a _serialized OSC message_. At present, you can not retrieve binary data from the message itself:"
     ]
    },
    {
     "cell_type": "code",
     "collapsed": false,
     "input": [
      "m2.getRaw()"
     ],
     "language": "python",
     "metadata": {},
     "outputs": [
      {
       "metadata": {},
       "output_type": "pyout",
       "prompt_number": 55,
       "text": [
        "<Swig Object of type 't_osc_message_s *' at 0x10562e7b0>"
       ]
      }
     ],
     "prompt_number": 55
    },
    {
     "cell_type": "markdown",
     "metadata": {},
     "source": [
      "We recommend that odot bindings to be stored in _bundles_\n",
      "\n",
      "### `o.bundle`\n",
      "\n",
      "The `o.bundle` class creates an _immutable, dictionary-like data structure_ from multiple odot bindings. It has several constructors:\n",
      "\n",
      "```\n",
      "b = o.bundle( < textual representation of the bundle > )\n",
      "b = o.bundle( messages = < list of o.message objects > )\n",
      "b = o.bundle( binary = < a python string w/ binary data > )\n",
      "```"
     ]
    },
    {
     "cell_type": "code",
     "collapsed": false,
     "input": [
      "b1 = o.bundle('/foo : 1, /bar : [2, 3, 4]')\n",
      "b2 = o.bundle(messages = [o.message('/foo', 1), o.message('/bar', [2, 3, 4])])\n",
      "data = b1.getRaw()\n",
      "print(data)\n",
      "print('--------------------')\n",
      "b3 = o.bundle(binary = data)\n",
      "print(b1)\n",
      "print('--------------------')\n",
      "print(b2)\n",
      "print('--------------------')\n",
      "print(b3)\n",
      "print('--------------------')"
     ],
     "language": "python",
     "metadata": {},
     "outputs": [
      {
       "output_type": "stream",
       "stream": "stdout",
       "text": [
        "#bundle\u0000\u0000\u0000\u0000\u0000\u0000\u0000\u0000\u0000\u0000\u0000\u0000\u0010/foo\u0000\u0000\u0000\u0000,i\u0000\u0000\u0000\u0000\u0000\u0001\u0000\u0000\u0000\u001c",
        "/bar\u0000\u0000\u0000\u0000,iii\u0000\u0000\u0000\u0000\u0000\u0000\u0000\u0002\u0000\u0000\u0000\u0003\u0000\u0000\u0000\u0004\n",
        "--------------------\n",
        "/foo : 1,\n",
        "/bar : [2, 3, 4]\n",
        "--------------------\n",
        "/foo : 1,\n",
        "/bar : [2, 3, 4]\n",
        "--------------------\n",
        "/foo : 1,\n",
        "/bar : [2, 3, 4]\n",
        "--------------------\n"
       ]
      }
     ],
     "prompt_number": 59
    },
    {
     "cell_type": "code",
     "collapsed": false,
     "input": [],
     "language": "python",
     "metadata": {},
     "outputs": []
    }
   ],
   "metadata": {}
  }
 ]
}